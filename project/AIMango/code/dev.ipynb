{
 "cells": [
  {
   "cell_type": "code",
   "execution_count": 1,
   "metadata": {},
   "outputs": [],
   "source": [
    "from tensorflow.python.keras import backend as K\n",
    "from tensorflow.python.keras.models import load_model\n",
    "from tensorflow.python.keras.preprocessing import image\n",
    "import sys\n",
    "import os\n",
    "import cv2\n",
    "import numpy as np"
   ]
  },
  {
   "cell_type": "code",
   "execution_count": 3,
   "metadata": {},
   "outputs": [],
   "source": [
    "net = load_model('model-resnet50-final.h5')\n",
    "cls_list = ['A', 'B', 'C']"
   ]
  },
  {
   "cell_type": "code",
   "execution_count": 4,
   "metadata": {},
   "outputs": [],
   "source": [
    "myPath = \"C1-P1_Dev\""
   ]
  },
  {
   "cell_type": "code",
   "execution_count": 5,
   "metadata": {},
   "outputs": [],
   "source": [
    "dev_list = []\n",
    "for file in os.listdir(myPath):\n",
    "    PATH = os.path.join(myPath,file)\n",
    "    img = image.load_img(PATH, target_size=(224, 224))\n",
    "    x = image.img_to_array(img)\n",
    "    x = np.expand_dims(x, axis = 0)\n",
    "    pred = net.predict(x)[0]\n",
    "#     print(pred)\n",
    "    top_inds = pred.argsort()[::-1][:5]\n",
    "#     print(top_inds)\n",
    "    dev_list.append(cls_list[top_inds[0]])\n",
    "#     break"
   ]
  },
  {
   "cell_type": "code",
   "execution_count": 8,
   "metadata": {},
   "outputs": [],
   "source": [
    "def error_rate(pred, target):\n",
    "    e = 0\n",
    "    n = len(pred)\n",
    "    for i in range(n):\n",
    "        if (pred[i] != target[i]):\n",
    "            e += 1\n",
    "    return e / n"
   ]
  },
  {
   "cell_type": "code",
   "execution_count": 9,
   "metadata": {},
   "outputs": [],
   "source": [
    "import pandas as pd\n",
    "labels = pd.read_csv(\"dev.csv\",encoding=\"utf8\")\n",
    "D_TL = np.array(labels[\"label\"])"
   ]
  },
  {
   "cell_type": "code",
   "execution_count": 11,
   "metadata": {},
   "outputs": [
    {
     "name": "stdout",
     "output_type": "stream",
     "text": [
      "0.27125\n",
      "0.72875\n"
     ]
    }
   ],
   "source": [
    "# print(D_TL)\n",
    "D_L = np.array(dev_list)\n",
    "# print(D_L)\n",
    "print(error_rate(D_L, D_TL))\n",
    "print(1-error_rate(D_L, D_TL))"
   ]
  },
  {
   "cell_type": "markdown",
   "metadata": {},
   "source": [
    "<strong>Accuracy:<br>0.72875</strong>"
   ]
  }
 ],
 "metadata": {
  "kernelspec": {
   "display_name": "Python 3",
   "language": "python",
   "name": "python3"
  },
  "language_info": {
   "codemirror_mode": {
    "name": "ipython",
    "version": 3
   },
   "file_extension": ".py",
   "mimetype": "text/x-python",
   "name": "python",
   "nbconvert_exporter": "python",
   "pygments_lexer": "ipython3",
   "version": "3.7.6"
  }
 },
 "nbformat": 4,
 "nbformat_minor": 4
}
