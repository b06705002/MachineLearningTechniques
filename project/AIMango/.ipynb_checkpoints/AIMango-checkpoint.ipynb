{
 "cells": [
  {
   "cell_type": "markdown",
   "metadata": {
    "colab_type": "text",
    "id": "bUJCH3yIky4W"
   },
   "source": [
    "## 一、載入相關套件"
   ]
  },
  {
   "cell_type": "code",
   "execution_count": 2,
   "metadata": {
    "colab": {},
    "colab_type": "code",
    "id": "uhSAutMdky4X"
   },
   "outputs": [],
   "source": [
    "# 資料處理套件\n",
    "import cv2\n",
    "import csv\n",
    "import random\n",
    "import time\n",
    "import numpy as np\n",
    "import pandas as pd\n",
    "import matplotlib.image as mpimg # mpimg 用於讀取圖片\n",
    "import matplotlib.pyplot as plt # plt 用於顯示圖片\n",
    "# import seaborn as sns"
   ]
  },
  {
   "cell_type": "code",
   "execution_count": 3,
   "metadata": {
    "colab": {},
    "colab_type": "code",
    "id": "ToAwBKMcky4b"
   },
   "outputs": [],
   "source": [
    "# 設定顯示中文字體\n",
    "from matplotlib.font_manager import FontProperties\n",
    "plt.rcParams['font.sans-serif'] = ['Microsoft JhengHei'] "
   ]
  },
  {
   "cell_type": "code",
   "execution_count": 4,
   "metadata": {
    "colab": {},
    "colab_type": "code",
    "id": "6nvC5t61ky4e"
   },
   "outputs": [
    {
     "name": "stderr",
     "output_type": "stream",
     "text": [
      "Using TensorFlow backend.\n"
     ]
    }
   ],
   "source": [
    "# Keras深度學習模組套件\n",
    "from keras.utils.np_utils import to_categorical\n",
    "from keras.preprocessing.image import ImageDataGenerator, array_to_img, img_to_array, load_img\n",
    "from keras.optimizers import RMSprop\n",
    "from keras.models import Sequential\n",
    "from keras import utils as np_utils\n",
    "from keras import backend as K\n",
    "from keras import optimizers"
   ]
  },
  {
   "cell_type": "code",
   "execution_count": 5,
   "metadata": {
    "colab": {},
    "colab_type": "code",
    "id": "DNhU-tX9ky4i"
   },
   "outputs": [],
   "source": [
    "# tensorflow深度學習模組套件\n",
    "from tensorflow.keras import models\n",
    "from tensorflow.keras import layers\n",
    "from tensorflow import keras\n",
    "import tensorflow as tf"
   ]
  },
  {
   "cell_type": "code",
   "execution_count": 6,
   "metadata": {
    "colab": {
     "base_uri": "https://localhost:8080/",
     "height": 51
    },
    "colab_type": "code",
    "executionInfo": {
     "elapsed": 586,
     "status": "ok",
     "timestamp": 1586322796812,
     "user": {
      "displayName": "Eddie Shen",
      "photoUrl": "",
      "userId": "15549488555491234711"
     },
     "user_tz": -480
    },
    "id": "2V7wMEdSky4n",
    "outputId": "085d53f3-6d1a-4e1c-fc2c-7de13087bd17"
   },
   "outputs": [
    {
     "name": "stdout",
     "output_type": "stream",
     "text": [
      "1.0.3\n",
      "2.1.0\n"
     ]
    }
   ],
   "source": [
    "# 打印相關版本\n",
    "print(pd.__version__)\n",
    "print(tf.__version__)"
   ]
  },
  {
   "cell_type": "code",
   "execution_count": 7,
   "metadata": {
    "colab": {
     "base_uri": "https://localhost:8080/",
     "height": 34
    },
    "colab_type": "code",
    "executionInfo": {
     "elapsed": 571,
     "status": "ok",
     "timestamp": 1586322797879,
     "user": {
      "displayName": "Eddie Shen",
      "photoUrl": "",
      "userId": "15549488555491234711"
     },
     "user_tz": -480
    },
    "id": "pjG7ikFzky4q",
    "outputId": "6b106271-1513-40c7-9b87-8e1a72540d16"
   },
   "outputs": [
    {
     "name": "stdout",
     "output_type": "stream",
     "text": [
      "channels_last\n"
     ]
    }
   ],
   "source": [
    "# 查看通道位置\n",
    "print(K.image_data_format())"
   ]
  },
  {
   "cell_type": "code",
   "execution_count": 8,
   "metadata": {
    "colab": {
     "base_uri": "https://localhost:8080/",
     "height": 34
    },
    "colab_type": "code",
    "executionInfo": {
     "elapsed": 3148,
     "status": "ok",
     "timestamp": 1586322801633,
     "user": {
      "displayName": "Eddie Shen",
      "photoUrl": "",
      "userId": "15549488555491234711"
     },
     "user_tz": -480
    },
    "id": "6BjtqgUamoLA",
    "outputId": "090cb96b-8eb2-4ffb-f7cc-8c0fe385f250"
   },
   "outputs": [
    {
     "name": "stderr",
     "output_type": "stream",
     "text": [
      "'ls' 不是內部或外部命令、可執行的程式或批次檔。\n"
     ]
    }
   ],
   "source": [
    "!ls"
   ]
  },
  {
   "cell_type": "markdown",
   "metadata": {
    "colab_type": "text",
    "id": "UIMDkuytky4t"
   },
   "source": [
    "## 二、讀取資料"
   ]
  },
  {
   "cell_type": "code",
   "execution_count": 10,
   "metadata": {
    "colab": {},
    "colab_type": "code",
    "id": "qEusWerSky4u"
   },
   "outputs": [],
   "source": [
    "# 讀取資料集標籤檔\n",
    "Sample_label = pd.read_csv(\"Sample_Label.csv\",encoding=\"utf8\")"
   ]
  },
  {
   "cell_type": "code",
   "execution_count": 12,
   "metadata": {
    "colab": {
     "base_uri": "https://localhost:8080/",
     "height": 204
    },
    "colab_type": "code",
    "executionInfo": {
     "elapsed": 682,
     "status": "ok",
     "timestamp": 1586322805274,
     "user": {
      "displayName": "Eddie Shen",
      "photoUrl": "",
      "userId": "15549488555491234711"
     },
     "user_tz": -480
    },
    "id": "o4fR0Xf2ky4x",
    "outputId": "e63fd8b5-6696-4851-da17-c54ac6e25fc6"
   },
   "outputs": [
    {
     "data": {
      "text/html": [
       "<div>\n",
       "<style scoped>\n",
       "    .dataframe tbody tr th:only-of-type {\n",
       "        vertical-align: middle;\n",
       "    }\n",
       "\n",
       "    .dataframe tbody tr th {\n",
       "        vertical-align: top;\n",
       "    }\n",
       "\n",
       "    .dataframe thead th {\n",
       "        text-align: right;\n",
       "    }\n",
       "</style>\n",
       "<table border=\"1\" class=\"dataframe\">\n",
       "  <thead>\n",
       "    <tr style=\"text-align: right;\">\n",
       "      <th></th>\n",
       "      <th>D-Plant2_0610_3.jpg</th>\n",
       "      <th>等級B</th>\n",
       "    </tr>\n",
       "  </thead>\n",
       "  <tbody>\n",
       "    <tr>\n",
       "      <th>0</th>\n",
       "      <td>D-Plant2_0610_30.jpg</td>\n",
       "      <td>等級C</td>\n",
       "    </tr>\n",
       "    <tr>\n",
       "      <th>1</th>\n",
       "      <td>D-Plant2_0610_300.jpg</td>\n",
       "      <td>等級B</td>\n",
       "    </tr>\n",
       "    <tr>\n",
       "      <th>2</th>\n",
       "      <td>D-Plant2_0610_301.jpg</td>\n",
       "      <td>等級B</td>\n",
       "    </tr>\n",
       "    <tr>\n",
       "      <th>3</th>\n",
       "      <td>D-Plant2_0610_302.jpg</td>\n",
       "      <td>等級B</td>\n",
       "    </tr>\n",
       "    <tr>\n",
       "      <th>4</th>\n",
       "      <td>D-Plant2_0610_306.jpg</td>\n",
       "      <td>等級B</td>\n",
       "    </tr>\n",
       "  </tbody>\n",
       "</table>\n",
       "</div>"
      ],
      "text/plain": [
       "     D-Plant2_0610_3.jpg  等級B\n",
       "0   D-Plant2_0610_30.jpg  等級C\n",
       "1  D-Plant2_0610_300.jpg  等級B\n",
       "2  D-Plant2_0610_301.jpg  等級B\n",
       "3  D-Plant2_0610_302.jpg  等級B\n",
       "4  D-Plant2_0610_306.jpg  等級B"
      ]
     },
     "execution_count": 12,
     "metadata": {},
     "output_type": "execute_result"
    }
   ],
   "source": [
    "# 顯示資料集標籤檔\n",
    "Sample_label.head()"
   ]
  },
  {
   "cell_type": "code",
   "execution_count": 15,
   "metadata": {
    "colab": {},
    "colab_type": "code",
    "id": "IzDVe5Suky40"
   },
   "outputs": [],
   "source": [
    "# 串接圖片檔的路徑\n",
    "import os\n",
    "Sample_pics_path = os.path.join(\"sample_image\")"
   ]
  },
  {
   "cell_type": "code",
   "execution_count": 16,
   "metadata": {
    "colab": {},
    "colab_type": "code",
    "id": "uqu1heF3ky43"
   },
   "outputs": [],
   "source": [
    "# 讀取路徑中的圖片\n",
    "train_mango_fnames = os.listdir(Sample_pics_path)"
   ]
  },
  {
   "cell_type": "code",
   "execution_count": 17,
   "metadata": {
    "colab": {
     "base_uri": "https://localhost:8080/",
     "height": 68
    },
    "colab_type": "code",
    "executionInfo": {
     "elapsed": 2023,
     "status": "ok",
     "timestamp": 1586322808362,
     "user": {
      "displayName": "Eddie Shen",
      "photoUrl": "",
      "userId": "15549488555491234711"
     },
     "user_tz": -480
    },
    "id": "B596KSnxky46",
    "outputId": "4f305807-5af4-44ed-89ff-e898a9a762f9"
   },
   "outputs": [
    {
     "name": "stdout",
     "output_type": "stream",
     "text": [
      "D-Plant2_0610_3.jpg\n",
      "D-Plant2_0610_30.jpg\n",
      "D-Plant2_0610_300.jpg\n"
     ]
    }
   ],
   "source": [
    "# 檢視是否有讀取到圖片\n",
    "print(train_mango_fnames[0])\n",
    "print(train_mango_fnames[1])\n",
    "print(train_mango_fnames[2])"
   ]
  },
  {
   "cell_type": "code",
   "execution_count": 18,
   "metadata": {
    "colab": {},
    "colab_type": "code",
    "id": "__aNQ61bky49"
   },
   "outputs": [],
   "source": [
    "# 用於瀏覽標籤檔的概況\n",
    "label_Survey = pd.read_csv(\"Sample_SurveyLabel.csv\",encoding=\"utf8\")"
   ]
  },
  {
   "cell_type": "code",
   "execution_count": 19,
   "metadata": {
    "colab": {
     "base_uri": "https://localhost:8080/",
     "height": 204
    },
    "colab_type": "code",
    "executionInfo": {
     "elapsed": 2286,
     "status": "ok",
     "timestamp": 1586322809924,
     "user": {
      "displayName": "Eddie Shen",
      "photoUrl": "",
      "userId": "15549488555491234711"
     },
     "user_tz": -480
    },
    "id": "-XqcvePnky4_",
    "outputId": "b51800a6-6ee2-499e-e81b-ddf5981ffc2f"
   },
   "outputs": [
    {
     "data": {
      "text/html": [
       "<div>\n",
       "<style scoped>\n",
       "    .dataframe tbody tr th:only-of-type {\n",
       "        vertical-align: middle;\n",
       "    }\n",
       "\n",
       "    .dataframe tbody tr th {\n",
       "        vertical-align: top;\n",
       "    }\n",
       "\n",
       "    .dataframe thead th {\n",
       "        text-align: right;\n",
       "    }\n",
       "</style>\n",
       "<table border=\"1\" class=\"dataframe\">\n",
       "  <thead>\n",
       "    <tr style=\"text-align: right;\">\n",
       "      <th></th>\n",
       "      <th>Pics</th>\n",
       "      <th>Level</th>\n",
       "    </tr>\n",
       "  </thead>\n",
       "  <tbody>\n",
       "    <tr>\n",
       "      <th>0</th>\n",
       "      <td>D-Plant2_0610_3.jpg</td>\n",
       "      <td>等級B</td>\n",
       "    </tr>\n",
       "    <tr>\n",
       "      <th>1</th>\n",
       "      <td>D-Plant2_0610_30.jpg</td>\n",
       "      <td>等級C</td>\n",
       "    </tr>\n",
       "    <tr>\n",
       "      <th>2</th>\n",
       "      <td>D-Plant2_0610_300.jpg</td>\n",
       "      <td>等級B</td>\n",
       "    </tr>\n",
       "    <tr>\n",
       "      <th>3</th>\n",
       "      <td>D-Plant2_0610_301.jpg</td>\n",
       "      <td>等級B</td>\n",
       "    </tr>\n",
       "    <tr>\n",
       "      <th>4</th>\n",
       "      <td>D-Plant2_0610_302.jpg</td>\n",
       "      <td>等級B</td>\n",
       "    </tr>\n",
       "  </tbody>\n",
       "</table>\n",
       "</div>"
      ],
      "text/plain": [
       "                    Pics Level\n",
       "0    D-Plant2_0610_3.jpg   等級B\n",
       "1   D-Plant2_0610_30.jpg   等級C\n",
       "2  D-Plant2_0610_300.jpg   等級B\n",
       "3  D-Plant2_0610_301.jpg   等級B\n",
       "4  D-Plant2_0610_302.jpg   等級B"
      ]
     },
     "execution_count": 19,
     "metadata": {},
     "output_type": "execute_result"
    }
   ],
   "source": [
    "label_Survey.head()"
   ]
  },
  {
   "cell_type": "code",
   "execution_count": 20,
   "metadata": {
    "colab": {
     "base_uri": "https://localhost:8080/",
     "height": 432
    },
    "colab_type": "code",
    "executionInfo": {
     "elapsed": 1618,
     "status": "ok",
     "timestamp": 1586322809924,
     "user": {
      "displayName": "Eddie Shen",
      "photoUrl": "",
      "userId": "15549488555491234711"
     },
     "user_tz": -480
    },
    "id": "H3qI2WNIky5C",
    "outputId": "8872aa73-f490-41b7-ffcf-01e15273f7cc"
   },
   "outputs": [
    {
     "ename": "NameError",
     "evalue": "name 'sns' is not defined",
     "output_type": "error",
     "traceback": [
      "\u001b[1;31m---------------------------------------------------------------------------\u001b[0m",
      "\u001b[1;31mNameError\u001b[0m                                 Traceback (most recent call last)",
      "\u001b[1;32m<ipython-input-20-fc702c072520>\u001b[0m in \u001b[0;36m<module>\u001b[1;34m\u001b[0m\n\u001b[1;32m----> 1\u001b[1;33m \u001b[0msns\u001b[0m\u001b[1;33m.\u001b[0m\u001b[0mcountplot\u001b[0m\u001b[1;33m(\u001b[0m\u001b[0mlabel_Survey\u001b[0m\u001b[1;33m[\u001b[0m\u001b[1;34m'Level'\u001b[0m\u001b[1;33m]\u001b[0m\u001b[1;33m,\u001b[0m \u001b[0mhue\u001b[0m \u001b[1;33m=\u001b[0m \u001b[0mlabel_Survey\u001b[0m\u001b[1;33m[\u001b[0m\u001b[1;34m\"Level\"\u001b[0m\u001b[1;33m]\u001b[0m\u001b[1;33m)\u001b[0m\u001b[1;33m\u001b[0m\u001b[1;33m\u001b[0m\u001b[0m\n\u001b[0m",
      "\u001b[1;31mNameError\u001b[0m: name 'sns' is not defined"
     ]
    }
   ],
   "source": [
    "# sns.countplot(label_Survey['Level'], hue = label_Survey[\"Level\"])"
   ]
  },
  {
   "cell_type": "code",
   "execution_count": 21,
   "metadata": {
    "colab": {
     "base_uri": "https://localhost:8080/",
     "height": 102
    },
    "colab_type": "code",
    "executionInfo": {
     "elapsed": 884,
     "status": "ok",
     "timestamp": 1586322809925,
     "user": {
      "displayName": "Eddie Shen",
      "photoUrl": "",
      "userId": "15549488555491234711"
     },
     "user_tz": -480
    },
    "id": "yUHf0pcyky5G",
    "outputId": "539e6862-4ad8-46d3-c1f9-98fc61393f02"
   },
   "outputs": [
    {
     "data": {
      "text/plain": [
       "Level\n",
       "等級A    16\n",
       "等級B    39\n",
       "等級C    39\n",
       "dtype: int64"
      ]
     },
     "execution_count": 21,
     "metadata": {},
     "output_type": "execute_result"
    }
   ],
   "source": [
    "sector = label_Survey.groupby('Level')\n",
    "sector.size()"
   ]
  },
  {
   "cell_type": "markdown",
   "metadata": {
    "colab_type": "text",
    "id": "hODXuJGeky5J"
   },
   "source": [
    "## 三、顯示芒果圖片"
   ]
  },
  {
   "cell_type": "code",
   "execution_count": 22,
   "metadata": {
    "colab": {
     "base_uri": "https://localhost:8080/",
     "height": 34
    },
    "colab_type": "code",
    "executionInfo": {
     "elapsed": 1926,
     "status": "ok",
     "timestamp": 1586322813239,
     "user": {
      "displayName": "Eddie Shen",
      "photoUrl": "",
      "userId": "15549488555491234711"
     },
     "user_tz": -480
    },
    "id": "dthK9fxzky5K",
    "outputId": "805c1563-3286-4093-e21e-3db503e47e74"
   },
   "outputs": [
    {
     "ename": "ValueError",
     "evalue": "Only know how to handle extensions: ['png']; with Pillow installed matplotlib can handle more images",
     "output_type": "error",
     "traceback": [
      "\u001b[1;31m---------------------------------------------------------------------------\u001b[0m",
      "\u001b[1;31mModuleNotFoundError\u001b[0m                       Traceback (most recent call last)",
      "\u001b[1;32mC:\\anaconda3\\envs\\tensorflow\\lib\\site-packages\\matplotlib\\image.py\u001b[0m in \u001b[0;36mimread\u001b[1;34m(fname, format)\u001b[0m\n\u001b[0;32m   1411\u001b[0m         \u001b[1;32mtry\u001b[0m\u001b[1;33m:\u001b[0m\u001b[1;33m\u001b[0m\u001b[1;33m\u001b[0m\u001b[0m\n\u001b[1;32m-> 1412\u001b[1;33m             \u001b[1;32mfrom\u001b[0m \u001b[0mPIL\u001b[0m \u001b[1;32mimport\u001b[0m \u001b[0mImage\u001b[0m\u001b[1;33m\u001b[0m\u001b[1;33m\u001b[0m\u001b[0m\n\u001b[0m\u001b[0;32m   1413\u001b[0m         \u001b[1;32mexcept\u001b[0m \u001b[0mImportError\u001b[0m\u001b[1;33m:\u001b[0m\u001b[1;33m\u001b[0m\u001b[1;33m\u001b[0m\u001b[0m\n",
      "\u001b[1;31mModuleNotFoundError\u001b[0m: No module named 'PIL'",
      "\nDuring handling of the above exception, another exception occurred:\n",
      "\u001b[1;31mValueError\u001b[0m                                Traceback (most recent call last)",
      "\u001b[1;32m<ipython-input-22-d0c954b2bba3>\u001b[0m in \u001b[0;36m<module>\u001b[1;34m\u001b[0m\n\u001b[0;32m      1\u001b[0m \u001b[1;31m# 讀取圖檔\u001b[0m\u001b[1;33m\u001b[0m\u001b[1;33m\u001b[0m\u001b[1;33m\u001b[0m\u001b[0m\n\u001b[1;32m----> 2\u001b[1;33m \u001b[0mimg\u001b[0m \u001b[1;33m=\u001b[0m \u001b[0mmpimg\u001b[0m\u001b[1;33m.\u001b[0m\u001b[0mimread\u001b[0m\u001b[1;33m(\u001b[0m\u001b[1;34m\"sample_image/D-Plant2_0610_39.jpg\"\u001b[0m\u001b[1;33m)\u001b[0m\u001b[1;33m\u001b[0m\u001b[1;33m\u001b[0m\u001b[0m\n\u001b[0m\u001b[0;32m      3\u001b[0m \u001b[1;31m# 查看資料型態\u001b[0m\u001b[1;33m\u001b[0m\u001b[1;33m\u001b[0m\u001b[1;33m\u001b[0m\u001b[0m\n\u001b[0;32m      4\u001b[0m \u001b[0mtype\u001b[0m\u001b[1;33m(\u001b[0m\u001b[0mimg\u001b[0m\u001b[1;33m)\u001b[0m\u001b[1;33m\u001b[0m\u001b[1;33m\u001b[0m\u001b[0m\n",
      "\u001b[1;32mC:\\anaconda3\\envs\\tensorflow\\lib\\site-packages\\matplotlib\\image.py\u001b[0m in \u001b[0;36mimread\u001b[1;34m(fname, format)\u001b[0m\n\u001b[0;32m   1414\u001b[0m             raise ValueError('Only know how to handle extensions: %s; '\n\u001b[0;32m   1415\u001b[0m                              \u001b[1;34m'with Pillow installed matplotlib can handle '\u001b[0m\u001b[1;33m\u001b[0m\u001b[1;33m\u001b[0m\u001b[0m\n\u001b[1;32m-> 1416\u001b[1;33m                              'more images' % list(handlers))\n\u001b[0m\u001b[0;32m   1417\u001b[0m         \u001b[1;32mwith\u001b[0m \u001b[0mImage\u001b[0m\u001b[1;33m.\u001b[0m\u001b[0mopen\u001b[0m\u001b[1;33m(\u001b[0m\u001b[0mfname\u001b[0m\u001b[1;33m)\u001b[0m \u001b[1;32mas\u001b[0m \u001b[0mimage\u001b[0m\u001b[1;33m:\u001b[0m\u001b[1;33m\u001b[0m\u001b[1;33m\u001b[0m\u001b[0m\n\u001b[0;32m   1418\u001b[0m             \u001b[1;32mreturn\u001b[0m \u001b[0mpil_to_array\u001b[0m\u001b[1;33m(\u001b[0m\u001b[0mimage\u001b[0m\u001b[1;33m)\u001b[0m\u001b[1;33m\u001b[0m\u001b[1;33m\u001b[0m\u001b[0m\n",
      "\u001b[1;31mValueError\u001b[0m: Only know how to handle extensions: ['png']; with Pillow installed matplotlib can handle more images"
     ]
    }
   ],
   "source": [
    "# 讀取圖檔\n",
    "img = mpimg.imread(\"sample_image/D-Plant2_0610_39.jpg\")\n",
    "# 查看資料型態\n",
    "type(img)"
   ]
  },
  {
   "cell_type": "code",
   "execution_count": 22,
   "metadata": {
    "colab": {
     "base_uri": "https://localhost:8080/",
     "height": 34
    },
    "colab_type": "code",
    "executionInfo": {
     "elapsed": 1218,
     "status": "ok",
     "timestamp": 1586322813240,
     "user": {
      "displayName": "Eddie Shen",
      "photoUrl": "",
      "userId": "15549488555491234711"
     },
     "user_tz": -480
    },
    "id": "LBPu1SQAky5N",
    "outputId": "099e2fef-f823-4e46-c4a8-32623a91c6e1"
   },
   "outputs": [
    {
     "data": {
      "text/plain": [
       "(816, 1088, 3)"
      ]
     },
     "execution_count": 22,
     "metadata": {
      "tags": []
     },
     "output_type": "execute_result"
    }
   ],
   "source": [
    "# 顯示圖片的比例\n",
    "img.shape"
   ]
  },
  {
   "cell_type": "code",
   "execution_count": 0,
   "metadata": {
    "colab": {},
    "colab_type": "code",
    "id": "yvdbgUIgky5P"
   },
   "outputs": [],
   "source": [
    "# 把圖片的比例壓縮至800x800 \n",
    "res = cv2.resize(img,(800,800),interpolation=cv2.INTER_LINEAR)"
   ]
  },
  {
   "cell_type": "code",
   "execution_count": 24,
   "metadata": {
    "colab": {
     "base_uri": "https://localhost:8080/",
     "height": 34
    },
    "colab_type": "code",
    "executionInfo": {
     "elapsed": 600,
     "status": "ok",
     "timestamp": 1586322815755,
     "user": {
      "displayName": "Eddie Shen",
      "photoUrl": "",
      "userId": "15549488555491234711"
     },
     "user_tz": -480
    },
    "id": "dAq7o8nWky5S",
    "outputId": "5ba9f51f-7753-49d9-cac6-a1522461cb9b"
   },
   "outputs": [
    {
     "data": {
      "text/plain": [
       "(800, 800, 3)"
      ]
     },
     "execution_count": 24,
     "metadata": {
      "tags": []
     },
     "output_type": "execute_result"
    }
   ],
   "source": [
    "# 顯示壓縮後圖片的比例\n",
    "res.shape"
   ]
  },
  {
   "cell_type": "code",
   "execution_count": 25,
   "metadata": {
    "colab": {
     "base_uri": "https://localhost:8080/",
     "height": 248
    },
    "colab_type": "code",
    "executionInfo": {
     "elapsed": 2267,
     "status": "ok",
     "timestamp": 1586322818146,
     "user": {
      "displayName": "Eddie Shen",
      "photoUrl": "",
      "userId": "15549488555491234711"
     },
     "user_tz": -480
    },
    "id": "LsyXfF5Gky5V",
    "outputId": "fc9bc2ea-99fd-43ae-95cb-1049133aef40"
   },
   "outputs": [
    {
     "data": {
      "image/png": "[encoded data removed]",
      "text/plain": [
       "<Figure size 432x288 with 1 Axes>"
      ]
     },
     "metadata": {
      "tags": []
     },
     "output_type": "display_data"
    }
   ],
   "source": [
    "# 顯示原圖的芒果照片\n",
    "plt.imshow(img)\n",
    "plt.axis('off')\n",
    "plt.show()"
   ]
  },
  {
   "cell_type": "code",
   "execution_count": 26,
   "metadata": {
    "colab": {
     "base_uri": "https://localhost:8080/",
     "height": 248
    },
    "colab_type": "code",
    "executionInfo": {
     "elapsed": 1612,
     "status": "ok",
     "timestamp": 1586322818146,
     "user": {
      "displayName": "Eddie Shen",
      "photoUrl": "",
      "userId": "15549488555491234711"
     },
     "user_tz": -480
    },
    "id": "cAMk253Pky5X",
    "outputId": "4012427b-2767-44b7-e0a1-6d00a8b2a866"
   },
   "outputs": [
    {
     "data": {
      "image/png": "[encoded data removed]",
      "text/plain": [
       "<Figure size 432x288 with 1 Axes>"
      ]
     },
     "metadata": {
      "tags": []
     },
     "output_type": "display_data"
    }
   ],
   "source": [
    "# 顯示壓縮過原圖的芒果照片\n",
    "plt.imshow(res)\n",
    "plt.axis('off')\n",
    "plt.show()"
   ]
  },
  {
   "cell_type": "markdown",
   "metadata": {
    "colab_type": "text",
    "id": "1Ce_FCtAky5b"
   },
   "source": [
    "## 四、製作標籤&資料集"
   ]
  },
  {
   "cell_type": "code",
   "execution_count": 0,
   "metadata": {
    "colab": {},
    "colab_type": "code",
    "id": "n3rX2gA5ky5c"
   },
   "outputs": [],
   "source": [
    "csvfile = open('AIMango/Sample_Label.csv')\n",
    "reader = csv.reader(csvfile)"
   ]
  },
  {
   "cell_type": "code",
   "execution_count": 0,
   "metadata": {
    "colab": {},
    "colab_type": "code",
    "id": "LXZeKFOQky5g"
   },
   "outputs": [],
   "source": [
    "# 讀取csv標籤\n",
    "labels = []\n",
    "for line in reader:\n",
    "    tmp = [line[0],line[1]]\n",
    "    # print tmp\n",
    "    labels.append(tmp)\n",
    "\n",
    "csvfile.close() "
   ]
  },
  {
   "cell_type": "code",
   "execution_count": 29,
   "metadata": {
    "colab": {
     "base_uri": "https://localhost:8080/",
     "height": 34
    },
    "colab_type": "code",
    "executionInfo": {
     "elapsed": 623,
     "status": "ok",
     "timestamp": 1586322821916,
     "user": {
      "displayName": "Eddie Shen",
      "photoUrl": "",
      "userId": "15549488555491234711"
     },
     "user_tz": -480
    },
    "id": "JrxY-sO6ky5i",
    "outputId": "a4b489c4-c117-4dd1-f00c-9ffdbb0494d3"
   },
   "outputs": [
    {
     "name": "stdout",
     "output_type": "stream",
     "text": [
      "芒果圖片數量:  94\n"
     ]
    }
   ],
   "source": [
    "picnum = len(labels)\n",
    "print(\"芒果圖片數量: \",picnum)"
   ]
  },
  {
   "cell_type": "code",
   "execution_count": 30,
   "metadata": {
    "colab": {
     "base_uri": "https://localhost:8080/",
     "height": 34
    },
    "colab_type": "code",
    "executionInfo": {
     "elapsed": 648,
     "status": "ok",
     "timestamp": 1586322822555,
     "user": {
      "displayName": "Eddie Shen",
      "photoUrl": "",
      "userId": "15549488555491234711"
     },
     "user_tz": -480
    },
    "id": "JELGmZ13ky5l",
    "outputId": "49a794d8-573c-4fd8-b794-63fb254c4ab3"
   },
   "outputs": [
    {
     "data": {
      "text/plain": [
       "['D-Plant2_0610_31.jpg', '等級C']"
      ]
     },
     "execution_count": 30,
     "metadata": {
      "tags": []
     },
     "output_type": "execute_result"
    }
   ],
   "source": [
    "labels[8]"
   ]
  },
  {
   "cell_type": "code",
   "execution_count": 0,
   "metadata": {
    "colab": {},
    "colab_type": "code",
    "id": "OORjRm0Sky5n"
   },
   "outputs": [],
   "source": [
    "X = []\n",
    "y = []"
   ]
  },
  {
   "cell_type": "code",
   "execution_count": 0,
   "metadata": {
    "colab": {},
    "colab_type": "code",
    "id": "aG4X4zzmky5q"
   },
   "outputs": [],
   "source": [
    "# 轉換圖片的標籤\n",
    "for i in range(len(labels)):\n",
    "    labels[i][1] = labels[i][1].replace(\"等級A\",\"0\")\n",
    "    labels[i][1] = labels[i][1].replace(\"等級B\",\"1\")\n",
    "    labels[i][1] = labels[i][1].replace(\"等級C\",\"2\")"
   ]
  },
  {
   "cell_type": "code",
   "execution_count": 0,
   "metadata": {
    "colab": {},
    "colab_type": "code",
    "id": "XasMaXzVky5s"
   },
   "outputs": [],
   "source": [
    "# 隨機讀取圖片\n",
    "a = 0\n",
    "items= []"
   ]
  },
  {
   "cell_type": "code",
   "execution_count": 0,
   "metadata": {
    "colab": {},
    "colab_type": "code",
    "id": "TYao-U_qky5u"
   },
   "outputs": [],
   "source": [
    "import random\n",
    "for a in range(0,94):\n",
    "    items.append(a)"
   ]
  },
  {
   "cell_type": "code",
   "execution_count": 0,
   "metadata": {
    "colab": {},
    "colab_type": "code",
    "id": "sYQnxHHVky5w"
   },
   "outputs": [],
   "source": [
    "# 製作訓練用資料集及標籤\n",
    "for i in random.sample(items,94):\n",
    "    img = cv2.imread(\"AIMango/sample_image/\" + labels[i][0] )\n",
    "    res = cv2.resize(img,(800,800),interpolation=cv2.INTER_LINEAR)\n",
    "    res = img_to_array(res)\n",
    "    X.append(res)    \n",
    "    y.append(labels[i][1])"
   ]
  },
  {
   "cell_type": "code",
   "execution_count": 0,
   "metadata": {
    "colab": {},
    "colab_type": "code",
    "id": "iZhyU2ANky5y"
   },
   "outputs": [],
   "source": [
    "y_label_org = y"
   ]
  },
  {
   "cell_type": "code",
   "execution_count": 37,
   "metadata": {
    "colab": {
     "base_uri": "https://localhost:8080/",
     "height": 136
    },
    "colab_type": "code",
    "executionInfo": {
     "elapsed": 100988,
     "status": "ok",
     "timestamp": 1586322937736,
     "user": {
      "displayName": "Eddie Shen",
      "photoUrl": "",
      "userId": "15549488555491234711"
     },
     "user_tz": -480
    },
    "id": "UhZQkZ91ky50",
    "outputId": "d088bd13-2e4d-45d0-faf7-ad23c0e546d9"
   },
   "outputs": [
    {
     "data": {
      "text/plain": [
       "array([[239, 223, 187],\n",
       "       [243, 227, 191],\n",
       "       [247, 231, 195],\n",
       "       ...,\n",
       "       [173, 162,  80],\n",
       "       [171, 159,  77],\n",
       "       [171, 159,  77]], dtype=uint8)"
      ]
     },
     "execution_count": 37,
     "metadata": {
      "tags": []
     },
     "output_type": "execute_result"
    }
   ],
   "source": [
    "img[0]"
   ]
  },
  {
   "cell_type": "code",
   "execution_count": 38,
   "metadata": {
    "colab": {
     "base_uri": "https://localhost:8080/",
     "height": 51
    },
    "colab_type": "code",
    "executionInfo": {
     "elapsed": 100373,
     "status": "ok",
     "timestamp": 1586322937737,
     "user": {
      "displayName": "Eddie Shen",
      "photoUrl": "",
      "userId": "15549488555491234711"
     },
     "user_tz": -480
    },
    "id": "ss-j56J1ky54",
    "outputId": "12b70f08-2c6b-40e9-e6af-116e03805713"
   },
   "outputs": [
    {
     "name": "stdout",
     "output_type": "stream",
     "text": [
      "94\n",
      "94\n"
     ]
    }
   ],
   "source": [
    "print(len(X))\n",
    "print(len(y))"
   ]
  },
  {
   "cell_type": "code",
   "execution_count": 0,
   "metadata": {
    "colab": {},
    "colab_type": "code",
    "id": "U7d5quZCky55"
   },
   "outputs": [],
   "source": [
    "# 轉換至array的格式\n",
    "X = np.array(X)\n",
    "y = np.array(y)"
   ]
  },
  {
   "cell_type": "code",
   "execution_count": 0,
   "metadata": {
    "colab": {},
    "colab_type": "code",
    "id": "8BIgyAY7ky57"
   },
   "outputs": [],
   "source": [
    "# 轉換至float的格式\n",
    "for i in range(len(X)):\n",
    "    X[i] = X[i].astype('float32')"
   ]
  },
  {
   "cell_type": "code",
   "execution_count": 41,
   "metadata": {
    "colab": {
     "base_uri": "https://localhost:8080/",
     "height": 85
    },
    "colab_type": "code",
    "executionInfo": {
     "elapsed": 98104,
     "status": "ok",
     "timestamp": 1586322938098,
     "user": {
      "displayName": "Eddie Shen",
      "photoUrl": "",
      "userId": "15549488555491234711"
     },
     "user_tz": -480
    },
    "id": "AKmCzMGsky59",
    "outputId": "ec829827-fa54-44de-8637-0539baa05975"
   },
   "outputs": [
    {
     "name": "stdout",
     "output_type": "stream",
     "text": [
      "<class 'numpy.ndarray'>\n",
      "(94, 800, 800, 3)\n",
      "(800, 800, 3)\n",
      "<class 'numpy.ndarray'>\n"
     ]
    }
   ],
   "source": [
    "# 打映圖片訓練集的概況\n",
    "# print(X[0])\n",
    "print(type(X))\n",
    "print(X.shape)\n",
    "\n",
    "print(X[0].shape)\n",
    "print(type(X[0]))"
   ]
  },
  {
   "cell_type": "code",
   "execution_count": 0,
   "metadata": {
    "colab": {},
    "colab_type": "code",
    "id": "fucIRN4Uky5_"
   },
   "outputs": [],
   "source": [
    "# 將標籤轉換至float格式\n",
    "y = tf.strings.to_number(y, out_type=tf.float32)"
   ]
  },
  {
   "cell_type": "code",
   "execution_count": 43,
   "metadata": {
    "colab": {
     "base_uri": "https://localhost:8080/",
     "height": 51
    },
    "colab_type": "code",
    "executionInfo": {
     "elapsed": 1910,
     "status": "ok",
     "timestamp": 1586322980129,
     "user": {
      "displayName": "Eddie Shen",
      "photoUrl": "",
      "userId": "15549488555491234711"
     },
     "user_tz": -480
    },
    "id": "BlRzPppPky6B",
    "outputId": "0a41ac00-c108-44a9-f393-de113e1c9a26"
   },
   "outputs": [
    {
     "name": "stdout",
     "output_type": "stream",
     "text": [
      "tf.Tensor(0.0, shape=(), dtype=float32)\n",
      "<class 'tensorflow.python.framework.ops.EagerTensor'>\n"
     ]
    }
   ],
   "source": [
    "# 打映圖片標籤的概況\n",
    "print(y[0])\n",
    "print(type(y[0]))"
   ]
  },
  {
   "cell_type": "code",
   "execution_count": 0,
   "metadata": {
    "colab": {},
    "colab_type": "code",
    "id": "Eq-1jCCaky6D"
   },
   "outputs": [],
   "source": [
    "# 標籤進行one-hotencoding\n",
    "y = np_utils.to_categorical(y, num_classes = 3)"
   ]
  },
  {
   "cell_type": "code",
   "execution_count": 45,
   "metadata": {
    "colab": {
     "base_uri": "https://localhost:8080/",
     "height": 34
    },
    "colab_type": "code",
    "executionInfo": {
     "elapsed": 2392,
     "status": "ok",
     "timestamp": 1586322982073,
     "user": {
      "displayName": "Eddie Shen",
      "photoUrl": "",
      "userId": "15549488555491234711"
     },
     "user_tz": -480
    },
    "id": "CiqdGCCAky6G",
    "outputId": "7b206d4a-3136-4f2a-fcfd-b6ba8988c213"
   },
   "outputs": [
    {
     "data": {
      "text/plain": [
       "array([1., 0., 0.], dtype=float32)"
      ]
     },
     "execution_count": 45,
     "metadata": {
      "tags": []
     },
     "output_type": "execute_result"
    }
   ],
   "source": [
    "y[0]"
   ]
  },
  {
   "cell_type": "markdown",
   "metadata": {
    "colab_type": "text",
    "id": "B_tpTHuwky6I"
   },
   "source": [
    "## 五、製作訓練資料集"
   ]
  },
  {
   "cell_type": "code",
   "execution_count": 0,
   "metadata": {
    "colab": {},
    "colab_type": "code",
    "id": "gcHqHmdtH8Yx"
   },
   "outputs": [],
   "source": [
    "# 分配訓練集及測試集比例\n",
    "x_train = X[:84]\n",
    "y_train = y[:84]\n",
    "x_test = X[84:]\n",
    "y_test = y[84:]"
   ]
  },
  {
   "cell_type": "code",
   "execution_count": 48,
   "metadata": {
    "colab": {
     "base_uri": "https://localhost:8080/",
     "height": 187
    },
    "colab_type": "code",
    "executionInfo": {
     "elapsed": 2794,
     "status": "ok",
     "timestamp": 1586323008087,
     "user": {
      "displayName": "Eddie Shen",
      "photoUrl": "",
      "userId": "15549488555491234711"
     },
     "user_tz": -480
    },
    "id": "ik0vIZ5Yky6L",
    "outputId": "2df6d17c-3910-4f89-914a-ec44acbf874c",
    "scrolled": true
   },
   "outputs": [
    {
     "data": {
      "text/plain": [
       "array([[0., 0., 1.],\n",
       "       [1., 0., 0.],\n",
       "       [0., 1., 0.],\n",
       "       [0., 0., 1.],\n",
       "       [0., 0., 1.],\n",
       "       [1., 0., 0.],\n",
       "       [0., 1., 0.],\n",
       "       [0., 1., 0.],\n",
       "       [0., 0., 1.],\n",
       "       [0., 0., 1.]], dtype=float32)"
      ]
     },
     "execution_count": 48,
     "metadata": {
      "tags": []
     },
     "output_type": "execute_result"
    }
   ],
   "source": [
    "y_test"
   ]
  },
  {
   "cell_type": "code",
   "execution_count": 0,
   "metadata": {
    "colab": {},
    "colab_type": "code",
    "id": "ZQwUinV8ky6O"
   },
   "outputs": [],
   "source": [
    "y_train_label = [0.,0.,0.]\n",
    "\n",
    "for i in range(0,len(y_train)):\n",
    "    y_train_label = y_train[i] + y_train_label"
   ]
  },
  {
   "cell_type": "code",
   "execution_count": 0,
   "metadata": {
    "colab": {},
    "colab_type": "code",
    "id": "7mYxm5tWky6Q"
   },
   "outputs": [],
   "source": [
    "y_test_label = [0.,0.,0.]\n",
    "\n",
    "for i in range(0,len(y_test)):\n",
    "    y_test_label = y_train[i] + y_test_label"
   ]
  },
  {
   "cell_type": "code",
   "execution_count": 51,
   "metadata": {
    "colab": {
     "base_uri": "https://localhost:8080/",
     "height": 34
    },
    "colab_type": "code",
    "executionInfo": {
     "elapsed": 1907,
     "status": "ok",
     "timestamp": 1586323015891,
     "user": {
      "displayName": "Eddie Shen",
      "photoUrl": "",
      "userId": "15549488555491234711"
     },
     "user_tz": -480
    },
    "id": "NeaCWuopky6S",
    "outputId": "df32638d-c105-4332-ad45-b5b7470fe28c"
   },
   "outputs": [
    {
     "data": {
      "text/plain": [
       "array([14., 36., 34.])"
      ]
     },
     "execution_count": 51,
     "metadata": {
      "tags": []
     },
     "output_type": "execute_result"
    }
   ],
   "source": [
    "y_train_label"
   ]
  },
  {
   "cell_type": "code",
   "execution_count": 52,
   "metadata": {
    "colab": {
     "base_uri": "https://localhost:8080/",
     "height": 34
    },
    "colab_type": "code",
    "executionInfo": {
     "elapsed": 2584,
     "status": "ok",
     "timestamp": 1586323019013,
     "user": {
      "displayName": "Eddie Shen",
      "photoUrl": "",
      "userId": "15549488555491234711"
     },
     "user_tz": -480
    },
    "id": "-yYjqm8Pky6T",
    "outputId": "a39cd193-1027-4bbb-f499-21177da0de24"
   },
   "outputs": [
    {
     "data": {
      "text/plain": [
       "array([2., 5., 3.])"
      ]
     },
     "execution_count": 52,
     "metadata": {
      "tags": []
     },
     "output_type": "execute_result"
    }
   ],
   "source": [
    "y_test_label"
   ]
  },
  {
   "cell_type": "code",
   "execution_count": 53,
   "metadata": {
    "colab": {
     "base_uri": "https://localhost:8080/",
     "height": 85
    },
    "colab_type": "code",
    "executionInfo": {
     "elapsed": 2075,
     "status": "ok",
     "timestamp": 1586323019794,
     "user": {
      "displayName": "Eddie Shen",
      "photoUrl": "",
      "userId": "15549488555491234711"
     },
     "user_tz": -480
    },
    "id": "iSR_rVMCky6V",
    "outputId": "ed7abe1f-2af0-4dbf-ed81-e6590a4ea5a0"
   },
   "outputs": [
    {
     "name": "stdout",
     "output_type": "stream",
     "text": [
      "<class 'numpy.ndarray'>\n",
      "84\n",
      "(84, 800, 800, 3)\n",
      "<class 'numpy.ndarray'>\n"
     ]
    }
   ],
   "source": [
    "print(type(x_train))\n",
    "print(len(x_train))\n",
    "print(x_train.shape)\n",
    "print(type(x_train[0]))"
   ]
  },
  {
   "cell_type": "markdown",
   "metadata": {
    "colab_type": "text",
    "id": "jSgZDN_Gky6X"
   },
   "source": [
    "## 六、建立與訓練深度學習Model"
   ]
  },
  {
   "cell_type": "code",
   "execution_count": 54,
   "metadata": {
    "colab": {
     "base_uri": "https://localhost:8080/",
     "height": 561
    },
    "colab_type": "code",
    "executionInfo": {
     "elapsed": 910,
     "status": "ok",
     "timestamp": 1586323021946,
     "user": {
      "displayName": "Eddie Shen",
      "photoUrl": "",
      "userId": "15549488555491234711"
     },
     "user_tz": -480
    },
    "id": "7d3HiBH0ky6X",
    "outputId": "debc586c-ecd7-445a-eeb8-310e5207ed5f"
   },
   "outputs": [
    {
     "name": "stdout",
     "output_type": "stream",
     "text": [
      "Model: \"sequential\"\n",
      "_________________________________________________________________\n",
      "Layer (type)                 Output Shape              Param #   \n",
      "=================================================================\n",
      "conv2d (Conv2D)              (None, 800, 800, 16)      448       \n",
      "_________________________________________________________________\n",
      "batch_normalization (BatchNo (None, 800, 800, 16)      64        \n",
      "_________________________________________________________________\n",
      "max_pooling2d (MaxPooling2D) (None, 400, 400, 16)      0         \n",
      "_________________________________________________________________\n",
      "conv2d_1 (Conv2D)            (None, 400, 400, 32)      4640      \n",
      "_________________________________________________________________\n",
      "max_pooling2d_1 (MaxPooling2 (None, 200, 200, 32)      0         \n",
      "_________________________________________________________________\n",
      "conv2d_2 (Conv2D)            (None, 200, 200, 64)      18496     \n",
      "_________________________________________________________________\n",
      "max_pooling2d_2 (MaxPooling2 (None, 100, 100, 64)      0         \n",
      "_________________________________________________________________\n",
      "flatten (Flatten)            (None, 640000)            0         \n",
      "_________________________________________________________________\n",
      "dense (Dense)                (None, 64)                40960064  \n",
      "_________________________________________________________________\n",
      "dense_1 (Dense)              (None, 128)               8320      \n",
      "_________________________________________________________________\n",
      "dropout (Dropout)            (None, 128)               0         \n",
      "_________________________________________________________________\n",
      "dense_2 (Dense)              (None, 3)                 387       \n",
      "=================================================================\n",
      "Total params: 40,992,419\n",
      "Trainable params: 40,992,387\n",
      "Non-trainable params: 32\n",
      "_________________________________________________________________\n"
     ]
    }
   ],
   "source": [
    "# 建立深度學習CNN Model\n",
    "\n",
    "model = tf.keras.Sequential()\n",
    "\n",
    "model.add(layers.Conv2D(16,(3,3),\n",
    "                 strides=(1,1),\n",
    "                 input_shape=(800, 800, 3),\n",
    "                 padding='same',\n",
    "                 activation='relu',\n",
    "                 ))\n",
    "\n",
    "model.add(layers.BatchNormalization())\n",
    "\n",
    "model.add(layers.MaxPooling2D(pool_size=(2,2),strides=None))\n",
    "\n",
    "model.add(layers.Conv2D(32,(3,3),\n",
    "                 strides=(1,1),\n",
    "                 padding='same',\n",
    "                 activation='relu',\n",
    "                 ))\n",
    "\n",
    "model.add(layers.MaxPooling2D(pool_size=(2,2),strides=None))\n",
    "\n",
    "model.add(layers.Conv2D(64,(3,3),\n",
    "                 strides=(1,1),\n",
    "                 padding='same',\n",
    "                 activation='relu',\n",
    "                 ))\n",
    "\n",
    "model.add(layers.MaxPooling2D(pool_size=(2,2),strides=None))\n",
    "\n",
    "model.add(layers.Flatten())\n",
    "\n",
    "model.add(layers.Dense(64,activation='relu'))\n",
    "\n",
    "model.add(layers.Dense(128,activation='relu'))\n",
    "\n",
    "\n",
    "model.add(layers.Dropout(0.2))\n",
    "\n",
    "model.add(layers.Dense(3,activation='softmax'))\n",
    "\n",
    "model.summary()"
   ]
  },
  {
   "cell_type": "markdown",
   "metadata": {
    "colab_type": "text",
    "id": "XXgN-ONmky6c"
   },
   "source": [
    "history = model.compile(optimizer='adam',\n",
    "              loss=tf.keras.losses.SparseCategoricalCrossentropy(),\n",
    "              metrics=[tf.keras.metrics.SparseCategoricalAccuracy()])"
   ]
  },
  {
   "cell_type": "code",
   "execution_count": 0,
   "metadata": {
    "colab": {},
    "colab_type": "code",
    "id": "kbzQaqoVky6c"
   },
   "outputs": [],
   "source": [
    "adam = optimizers.adam(lr=5)\n",
    "model.compile(optimizer='adam',\n",
    "              loss=tf.keras.losses.CategoricalCrossentropy(),\n",
    "              metrics=['acc'])"
   ]
  },
  {
   "cell_type": "code",
   "execution_count": 0,
   "metadata": {
    "colab": {},
    "colab_type": "code",
    "id": "aoKLYjDwky6e"
   },
   "outputs": [],
   "source": [
    "# zca_whitening 對輸入數據施加ZCA白化\n",
    "# rotation_range 數據提升時圖片隨機轉動的角度\n",
    "# width_shift_range 圖片寬度的某個比例，數據提升時圖片水平偏移的幅度\n",
    "# shear_range 剪切強度（逆時針方向的剪切變換角度）\n",
    "# zoom_range 隨機縮放的幅度\n",
    "# horizontal_flip 進行隨機水平翻轉\n",
    "# fill_mode ‘constant’，‘nearest’，‘reflect’或‘wrap’之一，當進行變換時超出邊界的點將根據本參數給定的方法進行處理\n",
    "\n",
    "datagen = ImageDataGenerator(\n",
    "    zca_whitening=False,\n",
    "    rotation_range=40,\n",
    "    width_shift_range=0.2,\n",
    "    height_shift_range=0.2,\n",
    "    shear_range=0.2,\n",
    "    zoom_range=0.2,\n",
    "    horizontal_flip=True,\n",
    "    fill_mode='nearest')"
   ]
  },
  {
   "cell_type": "code",
   "execution_count": 57,
   "metadata": {
    "colab": {
     "base_uri": "https://localhost:8080/",
     "height": 34
    },
    "colab_type": "code",
    "executionInfo": {
     "elapsed": 1051,
     "status": "ok",
     "timestamp": 1586323026514,
     "user": {
      "displayName": "Eddie Shen",
      "photoUrl": "",
      "userId": "15549488555491234711"
     },
     "user_tz": -480
    },
    "id": "_5jKNPtDLnHy",
    "outputId": "3895845c-6a1f-4af2-c91e-bc03909027b7"
   },
   "outputs": [
    {
     "name": "stdout",
     "output_type": "stream",
     "text": [
      "rescale！done!\n"
     ]
    }
   ],
   "source": [
    "# 導入圖像增強參數\n",
    "datagen.fit(x_train)\n",
    "x_train = x_train/255\n",
    "x_test = x_test/255\n",
    "print('rescale！done!')"
   ]
  },
  {
   "cell_type": "code",
   "execution_count": 0,
   "metadata": {
    "colab": {},
    "colab_type": "code",
    "id": "hYT65lw9ky6h"
   },
   "outputs": [],
   "source": [
    "# 設定超參數HyperParameters \n",
    "batch_size =  4\n",
    "epochs = 10"
   ]
  },
  {
   "cell_type": "code",
   "execution_count": 0,
   "metadata": {
    "colab": {},
    "colab_type": "code",
    "id": "jWzNYwUUky6i"
   },
   "outputs": [],
   "source": [
    "# 檔名設定\n",
    "file_name = str(epochs)+'_'+str(batch_size)"
   ]
  },
  {
   "cell_type": "code",
   "execution_count": 0,
   "metadata": {
    "colab": {},
    "colab_type": "code",
    "id": "f_hwYf7zky6k"
   },
   "outputs": [],
   "source": [
    "# 加入EarlyStopping以及Tensorboard等回調函數\n",
    "CB = tf.keras.callbacks.EarlyStopping(monitor='val_loss', patience=2)\n",
    "TB = keras.callbacks.TensorBoard(log_dir='./log'+\"_\"+file_name, histogram_freq=1)"
   ]
  },
  {
   "cell_type": "code",
   "execution_count": 64,
   "metadata": {
    "colab": {
     "base_uri": "https://localhost:8080/",
     "height": 119
    },
    "colab_type": "code",
    "executionInfo": {
     "elapsed": 5457,
     "status": "ok",
     "timestamp": 1586323190519,
     "user": {
      "displayName": "Eddie Shen",
      "photoUrl": "",
      "userId": "15549488555491234711"
     },
     "user_tz": -480
    },
    "id": "EK-cClUXG4E9",
    "outputId": "5894f37a-dc77-455a-854e-c2cb0c345c7e"
   },
   "outputs": [
    {
     "name": "stdout",
     "output_type": "stream",
     "text": [
      "Epoch 1/10\n",
      "17/17 [==============================] - 1s 76ms/step - loss: 0.3318 - acc: 0.8955 - val_loss: 0.7340 - val_acc: 0.4706\n",
      "Epoch 2/10\n",
      "17/17 [==============================] - 1s 70ms/step - loss: 0.0777 - acc: 0.9701 - val_loss: 1.1934 - val_acc: 0.4706\n",
      "Epoch 3/10\n",
      "17/17 [==============================] - 1s 68ms/step - loss: 0.4844 - acc: 0.9104 - val_loss: 0.8450 - val_acc: 0.2941\n"
     ]
    }
   ],
   "source": [
    "history = model.fit(\n",
    "    x = x_train , y = y_train,\n",
    "    batch_size = batch_size,\n",
    "    epochs = epochs,\n",
    "    validation_split = 0.2,\n",
    "    callbacks = [CB]\n",
    ")"
   ]
  },
  {
   "cell_type": "markdown",
   "metadata": {
    "colab_type": "text",
    "id": "z8hITtykky6p"
   },
   "source": [
    "## 柒、繪製Model學習成效"
   ]
  },
  {
   "cell_type": "code",
   "execution_count": 0,
   "metadata": {
    "colab": {},
    "colab_type": "code",
    "id": "C5zs_dGRky6p"
   },
   "outputs": [],
   "source": [
    "def plot_learning_curves(history):\n",
    "    pd.DataFrame(history.history).plot(figsize=(8,5))\n",
    "    plt.grid(True)\n",
    "    plt.gca().set_ylim(0,1)\n",
    "    plt.show()"
   ]
  },
  {
   "cell_type": "code",
   "execution_count": 66,
   "metadata": {
    "colab": {
     "base_uri": "https://localhost:8080/",
     "height": 324
    },
    "colab_type": "code",
    "executionInfo": {
     "elapsed": 1109,
     "status": "ok",
     "timestamp": 1586323197049,
     "user": {
      "displayName": "Eddie Shen",
      "photoUrl": "",
      "userId": "15549488555491234711"
     },
     "user_tz": -480
    },
    "id": "PBKx5lEAky6r",
    "outputId": "b5584a3c-e0d9-48d1-bb53-9fda62f2c31b"
   },
   "outputs": [
    {
     "data": {
      "image/png": "[encoded data removed]",
      "text/plain": [
       "<Figure size 576x360 with 1 Axes>"
      ]
     },
     "metadata": {
      "tags": []
     },
     "output_type": "display_data"
    }
   ],
   "source": [
    "plot_learning_curves(history)"
   ]
  },
  {
   "cell_type": "markdown",
   "metadata": {
    "colab_type": "text",
    "id": "9TJq37Baky6u"
   },
   "source": [
    "## 捌、推測圖片"
   ]
  },
  {
   "cell_type": "code",
   "execution_count": 0,
   "metadata": {
    "colab": {},
    "colab_type": "code",
    "id": "ZVMo3WKEky6u"
   },
   "outputs": [],
   "source": [
    "test_mango_dir = os.path.join(\"AIMango/test_image\")\n",
    "test_mango_fnames = os.listdir(test_mango_dir)"
   ]
  },
  {
   "cell_type": "code",
   "execution_count": 69,
   "metadata": {
    "colab": {
     "base_uri": "https://localhost:8080/",
     "height": 34
    },
    "colab_type": "code",
    "executionInfo": {
     "elapsed": 1085,
     "status": "ok",
     "timestamp": 1586323228757,
     "user": {
      "displayName": "Eddie Shen",
      "photoUrl": "",
      "userId": "15549488555491234711"
     },
     "user_tz": -480
    },
    "id": "Q3g9nZ8Nky6w",
    "outputId": "2ccf414d-0af7-4a24-bed5-8e5db9b7621e"
   },
   "outputs": [
    {
     "data": {
      "text/plain": [
       "'00009.jpg'"
      ]
     },
     "execution_count": 69,
     "metadata": {
      "tags": []
     },
     "output_type": "execute_result"
    }
   ],
   "source": [
    "test_mango_fnames[0]"
   ]
  },
  {
   "cell_type": "code",
   "execution_count": 70,
   "metadata": {
    "colab": {
     "base_uri": "https://localhost:8080/",
     "height": 298
    },
    "colab_type": "code",
    "executionInfo": {
     "elapsed": 3526,
     "status": "ok",
     "timestamp": 1586323232665,
     "user": {
      "displayName": "Eddie Shen",
      "photoUrl": "",
      "userId": "15549488555491234711"
     },
     "user_tz": -480
    },
    "id": "klkQY_QCky6x",
    "outputId": "28baa160-1605-43a8-87e8-3da33cabaffa"
   },
   "outputs": [
    {
     "data": {
      "text/plain": [
       "<matplotlib.image.AxesImage at 0x7fbbf02686d8>"
      ]
     },
     "execution_count": 70,
     "metadata": {
      "tags": []
     },
     "output_type": "execute_result"
    },
    {
     "name": "stderr",
     "output_type": "stream",
     "text": [
      "findfont: Font family ['sans-serif'] not found. Falling back to DejaVu Sans.\n"
     ]
    },
    {
     "data": {
      "image/png": "[encoded data removed]",
      "text/plain": [
       "<Figure size 432x288 with 1 Axes>"
      ]
     },
     "metadata": {
      "tags": []
     },
     "output_type": "display_data"
    }
   ],
   "source": [
    "img_files = [os.path.join(test_mango_dir,f) for f in test_mango_fnames]\n",
    "img_path = random.choice(img_files)\n",
    "\n",
    "# 讀入待測試圖像並秀出\n",
    "img = load_img(img_path, target_size=(800, 800))  # this is a PIL image\n",
    "plt.title(img_path)\n",
    "plt.grid(False)\n",
    "plt.imshow(img)"
   ]
  },
  {
   "cell_type": "code",
   "execution_count": 0,
   "metadata": {
    "colab": {},
    "colab_type": "code",
    "id": "k43oSCmQky60"
   },
   "outputs": [],
   "source": [
    "labels = ['等級A','等級B',\"等級C\"]"
   ]
  },
  {
   "cell_type": "code",
   "execution_count": 72,
   "metadata": {
    "colab": {
     "base_uri": "https://localhost:8080/",
     "height": 68
    },
    "colab_type": "code",
    "executionInfo": {
     "elapsed": 699,
     "status": "ok",
     "timestamp": 1586323233030,
     "user": {
      "displayName": "Eddie Shen",
      "photoUrl": "",
      "userId": "15549488555491234711"
     },
     "user_tz": -480
    },
    "id": "e3df1ChNky61",
    "outputId": "de574271-aeed-4d94-f417-3a19d86b4799"
   },
   "outputs": [
    {
     "name": "stdout",
     "output_type": "stream",
     "text": [
      "Result = 0.358031\n",
      "Test time :0.156388 second.\n",
      "有 35.80% 機率為等級A\n"
     ]
    }
   ],
   "source": [
    "# 將圖像轉成模型可分析格式(800x800x3, float32)\n",
    "x = img_to_array(img)  # Numpy array with shape (800, 800, 3)\n",
    "x = x.reshape((1,) + x.shape)  # Numpy array with shape (1, 800, 800, 3)\n",
    "x /= 255 # Rescale by 1/255\n",
    "\n",
    "start = time.time() # 啟動計時器\n",
    "result = model.predict(x) # 對輸入圖像進行推論(預測)\n",
    "finish = time.time() # 結束計時器\n",
    "\n",
    "pred = result.argmax(axis=1)[0]\n",
    "pred_prob = result[0][pred]\n",
    "\n",
    "print(\"Result = %f\" %pred_prob) # 印出結果可能機率值(0.0 ~ 1.0)\n",
    "print(\"Test time :%f second.\" %(finish-start)) # 印出推論時間\n",
    "\n",
    "# 設定分類門檻值並印出推論結果\n",
    "print(\"有 {:.2f}% 機率為{}\".format(pred_prob * 100,labels[pred])) # 印出推論時間"
   ]
  },
  {
   "cell_type": "markdown",
   "metadata": {
    "colab_type": "text",
    "id": "y8LFpb0aky63"
   },
   "source": [
    "## 玖、測試集預測準確度"
   ]
  },
  {
   "cell_type": "code",
   "execution_count": 0,
   "metadata": {
    "colab": {},
    "colab_type": "code",
    "id": "UHO_AcgBky63"
   },
   "outputs": [],
   "source": [
    "# 測試集標籤預測\n",
    "y_pred = model.predict(x_test)"
   ]
  },
  {
   "cell_type": "code",
   "execution_count": 74,
   "metadata": {
    "colab": {
     "base_uri": "https://localhost:8080/",
     "height": 34
    },
    "colab_type": "code",
    "executionInfo": {
     "elapsed": 543,
     "status": "ok",
     "timestamp": 1586323237902,
     "user": {
      "displayName": "Eddie Shen",
      "photoUrl": "",
      "userId": "15549488555491234711"
     },
     "user_tz": -480
    },
    "id": "zz83__feky65",
    "outputId": "e15ad7cb-315e-4bc4-f130-a5c01802fab9"
   },
   "outputs": [
    {
     "name": "stdout",
     "output_type": "stream",
     "text": [
      "正确率为:50.00%\n"
     ]
    }
   ],
   "source": [
    "# 整體準確度\n",
    "count = 0\n",
    "for i in range(len(y_pred)):\n",
    "    if(np.argmax(y_pred[i]) == np.argmax(y_test[i])): #argmax函数找到最大值的索引，即为其类别\n",
    "        count += 1\n",
    "score = count/len(y_pred)\n",
    "print('正确率为:%.2f%s' % (score*100,'%'))"
   ]
  },
  {
   "cell_type": "code",
   "execution_count": 75,
   "metadata": {
    "colab": {
     "base_uri": "https://localhost:8080/",
     "height": 51
    },
    "colab_type": "code",
    "executionInfo": {
     "elapsed": 749,
     "status": "ok",
     "timestamp": 1586323238780,
     "user": {
      "displayName": "Eddie Shen",
      "photoUrl": "",
      "userId": "15549488555491234711"
     },
     "user_tz": -480
    },
    "id": "zJ_qqeYbky67",
    "outputId": "7d5d4712-8e18-43dd-fb3d-fb81cb1e7524"
   },
   "outputs": [
    {
     "name": "stdout",
     "output_type": "stream",
     "text": [
      "[1 0 1 1 0 0 1 2 1 2]\n",
      "10\n"
     ]
    }
   ],
   "source": [
    "# 模型預測後的標籤\n",
    "predict_label = np.argmax(y_pred,axis=1)\n",
    "print(predict_label)\n",
    "print(len(predict_label))"
   ]
  },
  {
   "cell_type": "code",
   "execution_count": 76,
   "metadata": {
    "colab": {
     "base_uri": "https://localhost:8080/",
     "height": 51
    },
    "colab_type": "code",
    "executionInfo": {
     "elapsed": 1055,
     "status": "ok",
     "timestamp": 1586323239901,
     "user": {
      "displayName": "Eddie Shen",
      "photoUrl": "",
      "userId": "15549488555491234711"
     },
     "user_tz": -480
    },
    "id": "U7GBs7ttky68",
    "outputId": "624dec98-9da9-46c7-930f-c8a9fc25dc00"
   },
   "outputs": [
    {
     "name": "stdout",
     "output_type": "stream",
     "text": [
      "['2' '0' '1' '2' '2' '0' '1' '1' '2' '2']\n",
      "10\n"
     ]
    }
   ],
   "source": [
    "# 模型原標籤\n",
    "true_label = y_label_org[84:]\n",
    "true_label = np.array(true_label)\n",
    "print(true_label)\n",
    "print(len(true_label))"
   ]
  },
  {
   "cell_type": "code",
   "execution_count": 77,
   "metadata": {
    "colab": {
     "base_uri": "https://localhost:8080/",
     "height": 122
    },
    "colab_type": "code",
    "executionInfo": {
     "elapsed": 1383,
     "status": "ok",
     "timestamp": 1586323241251,
     "user": {
      "displayName": "Eddie Shen",
      "photoUrl": "",
      "userId": "15549488555491234711"
     },
     "user_tz": -480
    },
    "id": "wEV8ymtXky6-",
    "outputId": "c83b399b-cde8-4230-afa4-6003697111d1"
   },
   "outputs": [
    {
     "name": "stdout",
     "output_type": "stream",
     "text": [
      "WARNING:tensorflow:From <ipython-input-77-b673d95be4df>:1: Sequential.predict_classes (from tensorflow.python.keras.engine.sequential) is deprecated and will be removed after 2021-01-01.\n",
      "Instructions for updating:\n",
      "Please use instead:* `np.argmax(model.predict(x), axis=-1)`,   if your model does multi-class classification   (e.g. if it uses a `softmax` last-layer activation).* `(model.predict(x) > 0.5).astype(\"int32\")`,   if your model does binary classification   (e.g. if it uses a `sigmoid` last-layer activation).\n",
      "[1 0 1 1 0 0 1 2 1 2]\n",
      "10\n"
     ]
    }
   ],
   "source": [
    "# 模型預測後的標籤\n",
    "predictions = model.predict_classes(x_test)\n",
    "print(predictions)\n",
    "print(len(predictions))"
   ]
  },
  {
   "cell_type": "code",
   "execution_count": 78,
   "metadata": {
    "colab": {
     "base_uri": "https://localhost:8080/",
     "height": 173
    },
    "colab_type": "code",
    "executionInfo": {
     "elapsed": 608,
     "status": "ok",
     "timestamp": 1586323241252,
     "user": {
      "displayName": "Eddie Shen",
      "photoUrl": "",
      "userId": "15549488555491234711"
     },
     "user_tz": -480
    },
    "id": "8W-hJ2mcky7A",
    "outputId": "a76f3005-d417-473f-ebbd-c50a6d55f89f"
   },
   "outputs": [
    {
     "data": {
      "text/html": [
       "<div>\n",
       "<style scoped>\n",
       "    .dataframe tbody tr th:only-of-type {\n",
       "        vertical-align: middle;\n",
       "    }\n",
       "\n",
       "    .dataframe tbody tr th {\n",
       "        vertical-align: top;\n",
       "    }\n",
       "\n",
       "    .dataframe thead th {\n",
       "        text-align: right;\n",
       "    }\n",
       "</style>\n",
       "<table border=\"1\" class=\"dataframe\">\n",
       "  <thead>\n",
       "    <tr style=\"text-align: right;\">\n",
       "      <th>預測值</th>\n",
       "      <th>0</th>\n",
       "      <th>1</th>\n",
       "      <th>2</th>\n",
       "    </tr>\n",
       "    <tr>\n",
       "      <th>實際值</th>\n",
       "      <th></th>\n",
       "      <th></th>\n",
       "      <th></th>\n",
       "    </tr>\n",
       "  </thead>\n",
       "  <tbody>\n",
       "    <tr>\n",
       "      <th>0</th>\n",
       "      <td>2</td>\n",
       "      <td>0</td>\n",
       "      <td>0</td>\n",
       "    </tr>\n",
       "    <tr>\n",
       "      <th>1</th>\n",
       "      <td>0</td>\n",
       "      <td>2</td>\n",
       "      <td>1</td>\n",
       "    </tr>\n",
       "    <tr>\n",
       "      <th>2</th>\n",
       "      <td>1</td>\n",
       "      <td>3</td>\n",
       "      <td>1</td>\n",
       "    </tr>\n",
       "  </tbody>\n",
       "</table>\n",
       "</div>"
      ],
      "text/plain": [
       "預測值  0  1  2\n",
       "實際值         \n",
       "0    2  0  0\n",
       "1    0  2  1\n",
       "2    1  3  1"
      ]
     },
     "execution_count": 78,
     "metadata": {
      "tags": []
     },
     "output_type": "execute_result"
    }
   ],
   "source": [
    "pd.crosstab(true_label,predict_label,rownames=['實際值'],colnames=['預測值'])"
   ]
  },
  {
   "cell_type": "code",
   "execution_count": 81,
   "metadata": {
    "colab": {
     "base_uri": "https://localhost:8080/",
     "height": 105
    },
    "colab_type": "code",
    "executionInfo": {
     "elapsed": 56180,
     "status": "ok",
     "timestamp": 1586323343957,
     "user": {
      "displayName": "Eddie Shen",
      "photoUrl": "",
      "userId": "15549488555491234711"
     },
     "user_tz": -480
    },
    "id": "a8ddTbCIo1DZ",
    "outputId": "fb7fc0b5-48ae-486e-a222-9e8e3f0efd12"
   },
   "outputs": [
    {
     "name": "stdout",
     "output_type": "stream",
     "text": [
      "WARNING:tensorflow:From /usr/local/lib/python3.6/dist-packages/tensorflow/python/ops/resource_variable_ops.py:1817: calling BaseResourceVariable.__init__ (from tensorflow.python.ops.resource_variable_ops) with constraint is deprecated and will be removed in a future version.\n",
      "Instructions for updating:\n",
      "If using Keras pass *_constraint arguments to layers.\n",
      "INFO:tensorflow:Assets written to: 10_4/assets\n"
     ]
    }
   ],
   "source": [
    "# 儲存模型相關參數\n",
    "# model.save('h5/'+file_name+'.h5')"
   ]
  }
 ],
 "metadata": {
  "accelerator": "GPU",
  "colab": {
   "collapsed_sections": [],
   "name": "AIMango.ipynb",
   "provenance": [],
   "toc_visible": true
  },
  "kernelspec": {
   "display_name": "Python 3",
   "language": "python",
   "name": "python3"
  },
  "language_info": {
   "codemirror_mode": {
    "name": "ipython",
    "version": 3
   },
   "file_extension": ".py",
   "mimetype": "text/x-python",
   "name": "python",
   "nbconvert_exporter": "python",
   "pygments_lexer": "ipython3",
   "version": "3.7.6"
  }
 },
 "nbformat": 4,
 "nbformat_minor": 1
}
