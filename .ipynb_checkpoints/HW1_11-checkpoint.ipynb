{
 "cells": [
  {
   "cell_type": "code",
   "execution_count": 2,
   "metadata": {},
   "outputs": [],
   "source": [
    "import numpy as np\n",
    "import matplotlib.pyplot as plt\n",
    "from sklearn.svm import SVC\n",
    "import math"
   ]
  },
  {
   "cell_type": "code",
   "execution_count": 3,
   "metadata": {},
   "outputs": [],
   "source": [
    "def getdat(fname, binary):\n",
    "#     讀檔\n",
    "    datset = []\n",
    "    x = []\n",
    "    y = []\n",
    "    with open(fname, \"r\") as f:\n",
    "        for line in f.readlines():\n",
    "            line = line.strip().split()\n",
    "            datset.append(line)\n",
    "    f.close()\n",
    "    datset = np.array(datset, dtype = np.float64)\n",
    "    x = datset[:, 1:]\n",
    "    y = datset[:, 0]\n",
    "#     the binary classification problem of “0” versus “not 0”\n",
    "    for i in range(len(y)):\n",
    "        if (y[i] == binary): \n",
    "            y[i] = 1\n",
    "        else: \n",
    "            y[i] = -1\n",
    "    return x, y"
   ]
  },
  {
   "cell_type": "code",
   "execution_count": 4,
   "metadata": {},
   "outputs": [],
   "source": [
    "train_x, train_y = getdat(\"features.train.txt\", 0)\n",
    "test_x, test_y = getdat(\"features.test.txt\", 0)"
   ]
  },
  {
   "cell_type": "code",
   "execution_count": 5,
   "metadata": {},
   "outputs": [],
   "source": [
    "C = [math.pow(10, -5), math.pow(10, -3), math.pow(10, -1), math.pow(10, 1), math.pow(10, 3)]\n",
    "W = [] \n",
    "for c in C:\n",
    "    clf = SVC(C=c, kernel='linear')\n",
    "    clf.fit(train_x, train_y)\n",
    "    w = clf.coef_[0].tolist()\n",
    "    b = clf.intercept_[0]\n",
    "    w.append(b)\n",
    "    W.append(w)"
   ]
  },
  {
   "cell_type": "code",
   "execution_count": 6,
   "metadata": {},
   "outputs": [
    {
     "data": {
      "text/plain": [
       "Text(0, 0.5, '|w|')"
      ]
     },
     "execution_count": 6,
     "metadata": {},
     "output_type": "execute_result"
    },
    {
     "data": {
      "image/png": "[encoded data removed]",
      "text/plain": [
       "<Figure size 432x288 with 1 Axes>"
      ]
     },
     "metadata": {
      "needs_background": "light"
     },
     "output_type": "display_data"
    }
   ],
   "source": [
    "log_10 = [-5, -3, -1, 1, 3]\n",
    "Wl = np.array(W)\n",
    "Wlist = Wl[:, :2]\n",
    "w_L2 = np.sqrt((Wlist**2).sum(axis=1))\n",
    "plt.plot(log_10, w_L2)\n",
    "plt.xlabel('log_10C')\n",
    "plt.ylabel('|w|')"
   ]
  },
  {
   "cell_type": "code",
   "execution_count": null,
   "metadata": {},
   "outputs": [],
   "source": []
  },
  {
   "cell_type": "code",
   "execution_count": null,
   "metadata": {},
   "outputs": [],
   "source": []
  },
  {
   "cell_type": "code",
   "execution_count": null,
   "metadata": {},
   "outputs": [],
   "source": []
  }
 ],
 "metadata": {
  "kernelspec": {
   "display_name": "Python 3",
   "language": "python",
   "name": "python3"
  },
  "language_info": {
   "codemirror_mode": {
    "name": "ipython",
    "version": 3
   },
   "file_extension": ".py",
   "mimetype": "text/x-python",
   "name": "python",
   "nbconvert_exporter": "python",
   "pygments_lexer": "ipython3",
   "version": "3.7.3"
  }
 },
 "nbformat": 4,
 "nbformat_minor": 2
}
