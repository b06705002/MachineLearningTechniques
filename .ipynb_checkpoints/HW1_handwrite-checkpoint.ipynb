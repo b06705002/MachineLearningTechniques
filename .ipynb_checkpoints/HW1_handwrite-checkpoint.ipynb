{
 "cells": [
  {
   "cell_type": "markdown",
   "metadata": {},
   "source": [
    "1."
   ]
  },
  {
   "cell_type": "code",
   "execution_count": 1,
   "metadata": {},
   "outputs": [],
   "source": [
    "import numpy as np\n",
    "import matplotlib.pyplot as plt\n",
    "from sklearn import svm"
   ]
  },
  {
   "cell_type": "code",
   "execution_count": 2,
   "metadata": {},
   "outputs": [],
   "source": [
    "x = np.array([[1, 0], [0, 1], [0, -1], [-1, 0], [0, 2], [0, -2], [-2, 0]])\n",
    "y = [-1, -1, -1, 1, 1, 1, 1]"
   ]
  },
  {
   "cell_type": "code",
   "execution_count": 3,
   "metadata": {},
   "outputs": [
    {
     "data": {
      "text/plain": [
       "[<matplotlib.lines.Line2D at 0x1e61fe58a88>]"
      ]
     },
     "execution_count": 3,
     "metadata": {},
     "output_type": "execute_result"
    },
    {
     "data": {
      "image/png": "[encoded data removed]",
      "text/plain": [
       "<Figure size 432x288 with 1 Axes>"
      ]
     },
     "metadata": {
      "needs_background": "light"
     },
     "output_type": "display_data"
    }
   ],
   "source": [
    "z1 = (x[:, 1] ** 2) - 2 * x[:, 0] - 2 \n",
    "z2 = x[:, 0] ** 2 -2 * x[:, 1] - 1\n",
    "z = [[z1[i], z2[i]] for i in range(len(x))]\n",
    "\n",
    "plt.scatter(z1[:3], z2[:3], label=\"-1\")\n",
    "plt.scatter(z1[3:], z2[3:], label=\"+1\")\n",
    "plt.xlabel(\"z1\")\n",
    "plt.ylabel(\"z2\")\n",
    "plt.legend()\n",
    "plt.plot([-0.5, -0.5], [-7, 7])\n"
   ]
  },
  {
   "cell_type": "markdown",
   "metadata": {},
   "source": [
    "The equation of the optimal separating \"hyperplane\" in the Z space is Z1 = -0.5.\n",
    "As above. "
   ]
  },
  {
   "cell_type": "markdown",
   "metadata": {},
   "source": [
    "2."
   ]
  },
  {
   "cell_type": "code",
   "execution_count": 4,
   "metadata": {},
   "outputs": [
    {
     "name": "stdout",
     "output_type": "stream",
     "text": [
      "the optimal α is: [[-0.64491963 -0.76220325  0.88870349  0.22988879  0.2885306 ]]\n"
     ]
    }
   ],
   "source": [
    "clf = svm.SVC(C=1e100, kernel='poly', degree=2, gamma=1, coef0=1, shrinking = False)\n",
    "clf.fit(x, y)\n",
    "\n",
    "alpha = clf.dual_coef_\n",
    "sv = clf.support_vectors_\n",
    "print(\"the optimal α is:\", alpha)"
   ]
  },
  {
   "cell_type": "code",
   "execution_count": 5,
   "metadata": {},
   "outputs": [
    {
     "name": "stdout",
     "output_type": "stream",
     "text": [
      "Based on those α, the support vectors are:  [[ 0.  1.]\n",
      " [ 0. -1.]\n",
      " [-1.  0.]\n",
      " [ 0.  2.]\n",
      " [ 0. -2.]]\n"
     ]
    }
   ],
   "source": [
    "print(\"Based on those α, the support vectors are: \", sv)"
   ]
  },
  {
   "cell_type": "markdown",
   "metadata": {},
   "source": [
    "3."
   ]
  },
  {
   "cell_type": "code",
   "execution_count": 6,
   "metadata": {},
   "outputs": [
    {
     "name": "stdout",
     "output_type": "stream",
     "text": [
      "gsvm = \n",
      "-0.6449196277436483 *(1+ 0.0 *x1+ 1.0 *x2)^2\n",
      "-0.76220324878158 *(1+ 0.0 *x1+ -1.0 *x2)^2\n",
      "0.8887034937554661 *(1+ -1.0 *x1+ 0.0 *x2)^2\n",
      "0.22988878612539818 *(1+ 0.0 *x1+ 2.0 *x2)^2\n",
      "0.288530596644364 *(1+ 0.0 *x1+ -2.0 *x2)^2\n",
      "+ [-1.66633141]\n"
     ]
    }
   ],
   "source": [
    "b = clf.intercept_\n",
    "print(\"gsvm = \")\n",
    "for i in range(0, len(sv)):\n",
    "    print(alpha[0][i], \"*(1+\", sv[i][0], \"*x1+\", sv[i][1], \"*x2)^2\")\n",
    "print(\"+\", b)"
   ]
  },
  {
   "cell_type": "markdown",
   "metadata": {},
   "source": [
    "K(xn,x)with（sv1, sv2）, K=(1+(sv1, sv2)T(x1,x2))^2 = (1+x2)^2\n",
    "We can know that nonlinear curve in the X space is:\n",
    "gsvm = -0.6449196277436483 * (1 + x2)^2 -0.76220324878158 * (1 - x2)^2 + 0.8887034016088986 * (1 -x1)^2 + 0.22988878612539818 *(1 + 2x2)^2 + 0.288530596644364*(1 -2x2)^2 -1.66633141"
   ]
  },
  {
   "cell_type": "markdown",
   "metadata": {},
   "source": [
    "4."
   ]
  },
  {
   "cell_type": "markdown",
   "metadata": {},
   "source": [
    "No, they should not be the same.\n",
    "For Question 1, we project the data into a 2-d space(Z).\n",
    "However, we project the data into a 6-d space for Question 3."
   ]
  },
  {
   "cell_type": "markdown",
   "metadata": {},
   "source": [
    "8."
   ]
  },
  {
   "cell_type": "markdown",
   "metadata": {},
   "source": [
    "For standard hard-margin SVM dual: α∗n >= 0 for n = 1,2,...N\n",
    "For standard soft-margin SVM dual: C >= α∗n >= 0 for n = 1,2,...N\n",
    "SO, if a hard-margin SVM has an optimal solution of some vector α∗, if f C ≥ max1≤n≤N α∗n, it also satisfies the condition of standard soft-margin machine(C > α∗n >= 0 for n = 1,2,...N), which means that the vector α∗ is also an optimal solution to the soft-margin SVM ."
   ]
  },
  {
   "cell_type": "markdown",
   "metadata": {},
   "source": [
    "9."
   ]
  },
  {
   "cell_type": "markdown",
   "metadata": {},
   "source": [
    "10."
   ]
  },
  {
   "cell_type": "markdown",
   "metadata": {},
   "source": [
    "For the dual of soft-margin support vector machine, C >= α∗n >= 0, with using K˜ along with a new C˜ = C/p instead of K with the original C, C˜ >= α∗n >= 0 would lead to C >= α∗n*p >= 0.\n",
    "For solving unique b with free SV, b = ys - Σ(α∗n)(y∗n)K˜(x∗n, x∗s) = ys - Σ(α∗n*p)(y∗n)K(x∗n, x∗s)\n",
    "So, gSVM(x) = sign(Σ(α∗n)(y∗n)K˜(x∗n, x∗s) + b) = sign(Σ(α∗n*p)(y∗n)K(x∗n, x∗s) + b)"
   ]
  },
  {
   "cell_type": "code",
   "execution_count": null,
   "metadata": {},
   "outputs": [],
   "source": []
  }
 ],
 "metadata": {
  "kernelspec": {
   "display_name": "Python 3",
   "language": "python",
   "name": "python3"
  },
  "language_info": {
   "codemirror_mode": {
    "name": "ipython",
    "version": 3
   },
   "file_extension": ".py",
   "mimetype": "text/x-python",
   "name": "python",
   "nbconvert_exporter": "python",
   "pygments_lexer": "ipython3",
   "version": "3.7.6"
  }
 },
 "nbformat": 4,
 "nbformat_minor": 2
}
