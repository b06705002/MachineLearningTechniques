{
 "cells": [
  {
   "cell_type": "code",
   "execution_count": 2,
   "metadata": {},
   "outputs": [],
   "source": [
    "import numpy as np\n",
    "import matplotlib.pyplot as plt\n",
    "from sklearn.svm import SVC\n",
    "import math"
   ]
  },
  {
   "cell_type": "code",
   "execution_count": 3,
   "metadata": {},
   "outputs": [],
   "source": [
    "def getvaldat(fname, binary):\n",
    "#     讀檔\n",
    "    datset = []\n",
    "    x = []\n",
    "    y = []\n",
    "    with open(fname, \"r\") as f:\n",
    "        for line in f.readlines():\n",
    "            line = line.strip().split()\n",
    "            datset.append(line)\n",
    "    f.close()\n",
    "    datset = np.array(datset, dtype = np.float64)\n",
    "    np.random.shuffle(datset)\n",
    "\n",
    "    v_dat = datset[:1000]\n",
    "    train_dat = datset[1000:]\n",
    "    \n",
    "    v_x = v_dat[:, 1:]\n",
    "    v_y = v_dat[:, 0]\n",
    "    \n",
    "    train_x = train_dat[:, 1:]\n",
    "    train_y = train_dat[:, 0]\n",
    "    \n",
    "#     the binary classification problem of “0” versus “not 0”\n",
    "    for i in range(len(v_y)):\n",
    "        if (v_y[i] == binary): \n",
    "            v_y[i] = 1\n",
    "        else: \n",
    "            v_y[i] = -1\n",
    "    \n",
    "    for i in range(len(train_y)):\n",
    "        if (train_y[i] == binary): \n",
    "            train_y[i] = 1\n",
    "        else: \n",
    "            train_y[i] = -1\n",
    "            \n",
    "    return train_x, train_y, v_x, v_y"
   ]
  },
  {
   "cell_type": "code",
   "execution_count": 4,
   "metadata": {},
   "outputs": [],
   "source": [
    "def erate(y_pred, y):\n",
    "    e = 0\n",
    "    n = len(y)\n",
    "    for i in range(n):\n",
    "        if (y_pred[i] != y[i]):\n",
    "            e += 1\n",
    "    return e / n"
   ]
  },
  {
   "cell_type": "code",
   "execution_count": 5,
   "metadata": {},
   "outputs": [
    {
     "data": {
      "text/plain": [
       "(array([83.,  0.,  0.,  0.,  0.,  0.,  0.,  0.,  0., 17.]),\n",
       " array([  1. ,  10.9,  20.8,  30.7,  40.6,  50.5,  60.4,  70.3,  80.2,\n",
       "         90.1, 100. ]),\n",
       " <a list of 10 Patch objects>)"
      ]
     },
     "execution_count": 5,
     "metadata": {},
     "output_type": "execute_result"
    },
    {
     "data": {
      "image/png": "[encoded data removed]",
      "text/plain": [
       "<Figure size 432x288 with 1 Axes>"
      ]
     },
     "metadata": {
      "needs_background": "light"
     },
     "output_type": "display_data"
    }
   ],
   "source": [
    "G = [math.pow(10, -1), math.pow(10, 0), math.pow(10, 1), math.pow(10, 2), math.pow(10, 3)]\n",
    "n = []\n",
    "\n",
    "for i in range(100):\n",
    "    train_x, train_y, v_x, v_y = getvaldat(\"features.train.txt\", 0)\n",
    "    err = []\n",
    "    for g in G:\n",
    "        clf = SVC(C=0.1, kernel='rbf', gamma=g)\n",
    "        clf.fit(train_x, train_y)\n",
    "        pred_y = clf.predict(v_x)\n",
    "        err.append(erate(pred_y, v_y))\n",
    "    \n",
    "    index = err.index(min(err))\n",
    "    n.append(G[index])\n",
    "\n",
    "plt.hist(n)"
   ]
  },
  {
   "cell_type": "code",
   "execution_count": null,
   "metadata": {},
   "outputs": [],
   "source": []
  }
 ],
 "metadata": {
  "kernelspec": {
   "display_name": "Python 3",
   "language": "python",
   "name": "python3"
  },
  "language_info": {
   "codemirror_mode": {
    "name": "ipython",
    "version": 3
   },
   "file_extension": ".py",
   "mimetype": "text/x-python",
   "name": "python",
   "nbconvert_exporter": "python",
   "pygments_lexer": "ipython3",
   "version": "3.7.3"
  }
 },
 "nbformat": 4,
 "nbformat_minor": 2
}
