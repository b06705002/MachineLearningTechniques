{
 "cells": [
  {
   "cell_type": "code",
   "execution_count": 1,
   "metadata": {},
   "outputs": [],
   "source": [
    "import numpy as np\n",
    "import matplotlib.pyplot as plt\n",
    "from sklearn.svm import SVC\n",
    "import math"
   ]
  },
  {
   "cell_type": "code",
   "execution_count": 2,
   "metadata": {},
   "outputs": [],
   "source": [
    "def getdat(fname, binary):\n",
    "#     讀檔\n",
    "    datset = []\n",
    "    x = []\n",
    "    y = []\n",
    "    with open(fname, \"r\") as f:\n",
    "        for line in f.readlines():\n",
    "            line = line.strip().split()\n",
    "            datset.append(line)\n",
    "    f.close()\n",
    "    datset = np.array(datset, dtype = np.float64)\n",
    "    x = datset[:, 1:]\n",
    "    y = datset[:, 0]\n",
    "#     the binary classification problem of “0” versus “not 0”\n",
    "    for i in range(len(y)):\n",
    "        if (y[i] == binary): \n",
    "            y[i] = 1\n",
    "        else: \n",
    "            y[i] = -1\n",
    "    return x, y"
   ]
  },
  {
   "cell_type": "code",
   "execution_count": 3,
   "metadata": {},
   "outputs": [
    {
     "name": "stdout",
     "output_type": "stream",
     "text": [
      "1e-05\n",
      "0.001\n",
      "0.1\n",
      "10.0\n",
      "1000.0\n"
     ]
    },
    {
     "data": {
      "text/plain": [
       "Text(0, 0.5, 'number of support vectors')"
      ]
     },
     "execution_count": 3,
     "metadata": {},
     "output_type": "execute_result"
    },
    {
     "data": {
      "image/png": "[encoded data removed]",
      "text/plain": [
       "<Figure size 432x288 with 1 Axes>"
      ]
     },
     "metadata": {
      "needs_background": "light"
     },
     "output_type": "display_data"
    }
   ],
   "source": [
    "train_x, train_y = getdat('features.train.txt', 8)\n",
    "test_x, test_y = getdat('features.test.txt', 8)\n",
    "\n",
    "def erate(y_pred, y):\n",
    "    e = 0\n",
    "    n = len(y)\n",
    "    for i in range(n):\n",
    "        if (y_pred[i] != y[i]):\n",
    "            e += 1\n",
    "    return e / n\n",
    "\n",
    "sv_list = [] \n",
    "C = [math.pow(10, -5), math.pow(10, -3), math.pow(10, -1), math.pow(10, 1), math.pow(10, 3)]\n",
    "for c in C:\n",
    "    print(c)\n",
    "    clf = SVC(C=c, kernel='poly', degree=2, gamma=1, coef0=1)\n",
    "    clf.fit(train_x, train_y)\n",
    "    sv = clf.support_vectors_\n",
    "    sv_list.append(len(sv))\n",
    "#     y_pred = clf.predict(train_x)\n",
    "#     Ein.append(erate(y_pred, train_y))\n",
    "\n",
    "log_10 = [-5, -3, -1, 1, 3]\n",
    "plt.plot(log_10, sv_list)\n",
    "plt.xlabel('log_10C')\n",
    "plt.ylabel('number of support vectors')"
   ]
  },
  {
   "cell_type": "code",
   "execution_count": null,
   "metadata": {},
   "outputs": [],
   "source": []
  }
 ],
 "metadata": {
  "kernelspec": {
   "display_name": "Python 3",
   "language": "python",
   "name": "python3"
  },
  "language_info": {
   "codemirror_mode": {
    "name": "ipython",
    "version": 3
   },
   "file_extension": ".py",
   "mimetype": "text/x-python",
   "name": "python",
   "nbconvert_exporter": "python",
   "pygments_lexer": "ipython3",
   "version": "3.7.3"
  }
 },
 "nbformat": 4,
 "nbformat_minor": 2
}
